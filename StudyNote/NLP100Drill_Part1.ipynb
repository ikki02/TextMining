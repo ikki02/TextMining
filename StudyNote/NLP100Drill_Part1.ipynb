{
 "cells": [
  {
   "cell_type": "markdown",
   "metadata": {},
   "source": [
    "- 言語処理100本ノック[http://www.cl.ecei.tohoku.ac.jp/nlp100/]　　　　　　\n",
    "- 100本ノックまとめ[https://qiita.com/segavvy/items/fb50ba8097d59475f760]　　　　"
   ]
  },
  {
   "cell_type": "code",
   "execution_count": 2,
   "metadata": {
    "collapsed": false
   },
   "outputs": [
    {
     "data": {
      "text/plain": [
       "'desserts'"
      ]
     },
     "execution_count": 2,
     "metadata": {},
     "output_type": "execute_result"
    }
   ],
   "source": [
    "# 00. 文字列の逆順\n",
    "# 文字列\"stressed\"の文字を逆に（末尾から先頭に向かって）並べた文字列を得よ．\n",
    "\n",
    "s = 'stressed'\n",
    "s[::-1]"
   ]
  },
  {
   "cell_type": "code",
   "execution_count": 3,
   "metadata": {
    "collapsed": false
   },
   "outputs": [
    {
     "data": {
      "text/plain": [
       "'パトカー'"
      ]
     },
     "execution_count": 3,
     "metadata": {},
     "output_type": "execute_result"
    }
   ],
   "source": [
    "# 01. 「パタトクカシーー」\n",
    "# 「パタトクカシーー」という文字列の1,3,5,7文字目を取り出して連結した文字列を得よ．\n",
    "\n",
    "p = 'パタトクカシーー'\n",
    "p[0::2]"
   ]
  },
  {
   "cell_type": "code",
   "execution_count": 4,
   "metadata": {
    "collapsed": false
   },
   "outputs": [
    {
     "name": "stdout",
     "output_type": "stream",
     "text": [
      "パタトクカシーー\n"
     ]
    }
   ],
   "source": [
    "# 02. 「パトカー」＋「タクシー」＝「パタトクカシーー」\n",
    "# 「パトカー」＋「タクシー」の文字を先頭から交互に連結して文字列「パタトクカシーー」を得よ．\n",
    "\n",
    "police = 'パトカー'\n",
    "cab = 'タクシー'\n",
    "result = ''\n",
    "for p,c in zip(police, cab):\n",
    "    result += p + c\n",
    "print(result)"
   ]
  },
  {
   "cell_type": "code",
   "execution_count": 5,
   "metadata": {
    "collapsed": false
   },
   "outputs": [
    {
     "name": "stdout",
     "output_type": "stream",
     "text": [
      "['3', '1', '4', '1', '5', '9', '2', '6', '5', '3', '5', '8', '9', '7', '9']\n"
     ]
    }
   ],
   "source": [
    "# 03. 円周率\n",
    "# \"Now I need a drink, alcoholic of course, after the heavy lectures involving quantum mechanics.\"という文を単語に分解し，各単語の（アルファベットの）文字数を先頭から出現順に並べたリストを作成せよ．\n",
    "\n",
    "sentence = \"Now I need a drink, alcoholic of course, after the heavy lectures involving quantum mechanics.\"\n",
    "sentence = sentence.replace(',','')\n",
    "sentence = sentence.replace('.','') #破壊的変更\n",
    "sentence = sentence.split(' ')\n",
    "count_list = []\n",
    "for word in sentence:\n",
    "    count_list += str(len(word))\n",
    "print(count_list)"
   ]
  },
  {
   "cell_type": "code",
   "execution_count": 8,
   "metadata": {
    "collapsed": false,
    "scrolled": true
   },
   "outputs": [
    {
     "name": "stdout",
     "output_type": "stream",
     "text": [
      "{'H': 1, 'He': 2, 'Li': 3, 'Be': 4, 'B': 5, 'C': 6, 'N': 7, 'O': 8, 'F': 9, 'Ne': 10, 'Na': 11, 'Mi': 12, 'Al': 13, 'Si': 14, 'P': 15, 'S': 16, 'Cl': 17, 'Ar': 18, 'K': 19, 'Ca': 20}\n"
     ]
    }
   ],
   "source": [
    "# 04. 元素記号\n",
    "# \"Hi He Lied Because Boron Could Not Oxidize Fluorine. New Nations Might Also Sign Peace Security Clause. Arthur King Can.\"という文を単語に分解し，1, 5, 6, 7, 8, 9, 15, 16, 19番目の単語は先頭の1文字，それ以外の単語は先頭に2文字を取り出し，取り出した文字列から単語の位置（先頭から何番目の単語か）への連想配列（辞書型もしくはマップ型）を作成せよ.\n",
    "\n",
    "# 周期表は英語でperiodic tableというらしい。\n",
    "pt = \"Hi He Lied Because Boron Could Not Oxidize Fluorine. New Nations Might Also Sign Peace Security Clause. Arthur King Can.\" \n",
    "pt = pt.split(' ')\n",
    "offset = [1, 5, 6, 7, 8, 9, 15, 16, 19]\n",
    "empty_dict = {} #e.g. budget, output\n",
    "\n",
    "for n, e in enumerate(pt, 1):\n",
    "    if n in offset:\n",
    "        empty_dict[e[0:1]] = n\n",
    "    else:\n",
    "        empty_dict[e[0:2]] = n\n",
    "\n",
    "print(empty_dict)"
   ]
  },
  {
   "cell_type": "code",
   "execution_count": 41,
   "metadata": {
    "collapsed": false
   },
   "outputs": [
    {
     "name": "stdout",
     "output_type": "stream",
     "text": [
      "単語bi-gram:  [['I', 'am'], ['am', 'an'], ['an', 'NLPer']]\n",
      "文字bi-gram:  ['I ', ' a', 'am', 'm ', ' a', 'an', 'n ', ' N', 'NL', 'LP', 'Pe', 'er']\n"
     ]
    }
   ],
   "source": [
    "# 05. n-gram\n",
    "# 与えられたシーケンス（文字列やリストなど）からn-gramを作る関数を作成せよ．この関数を用い，\"I am an NLPer\"という文から単語bi-gram，文字bi-gramを得よ．\n",
    "\n",
    "def n_gram(sq,n):\n",
    "    empty_list = []\n",
    "    for x in range(0,len(sq)+1-n): #引数をスライスで抽出する際、endはlen()+1。従って、startはlen()+1-n。\n",
    "        empty_list.append(sq[x:x+n])\n",
    "    return empty_list\n",
    "\n",
    "sq = \"I am an NLPer\"\n",
    "\n",
    "print('単語bi-gram: ', n_gram(sq.split(' '), 2))\n",
    "print('文字bi-gram: ', n_gram(sq, 2))\n"
   ]
  },
  {
   "cell_type": "code",
   "execution_count": 46,
   "metadata": {
    "collapsed": false
   },
   "outputs": [
    {
     "name": "stdout",
     "output_type": "stream",
     "text": [
      "XとYの和集合:  {'ap', 'se', 'ad', 'ag', 'di', 'ar', 'pa', 'ph', 'is', 'gr', 'ra'}\n",
      "XとYの積集合:  {'ap', 'pa', 'ra', 'ar'}\n",
      "XとYの差集合:  {'se', 'di', 'ad', 'is'}\n",
      "\"se\"がXに含まれているかどうか:  True\n",
      "\"se\"がYに含まれているかどうか:  False\n"
     ]
    }
   ],
   "source": [
    "# 06. 集合\n",
    "#\"paraparaparadise\"と\"paragraph\"に含まれる文字bi-gramの集合を，それぞれ, XとYとして求め，XとYの和集合，積集合，差集合を求めよ．さらに，'se'というbi-gramがXおよびYに含まれるかどうかを調べよ．\n",
    "\n",
    "X = set(n_gram('paraparaparadise', 2))\n",
    "Y = set(n_gram('paragraph', 2))\n",
    "\n",
    "print('XとYの和集合: ', X | Y)\n",
    "print('XとYの積集合: ', X & Y)\n",
    "print('XとYの差集合: ', X - Y)\n",
    "\n",
    "print('\"se\"がXに含まれているかどうか: ', 'se' in X)\n",
    "print('\"se\"がYに含まれているかどうか: ', 'se' in Y)"
   ]
  },
  {
   "cell_type": "code",
   "execution_count": 3,
   "metadata": {
    "collapsed": false
   },
   "outputs": [
    {
     "name": "stdout",
     "output_type": "stream",
     "text": [
      "12時の気温は22.4\n",
      "12時の\n",
      "None\n"
     ]
    }
   ],
   "source": [
    "# 07. テンプレートによる文生成\n",
    "# 引数x, y, zを受け取り「x時のyはz」という文字列を返す関数を実装せよ．さらに，x=12, y=\"気温\", z=22.4として，実行結果を確認せよ．\n",
    "\n",
    "def reply(x, y, z):\n",
    "    print(str(x) + '時の' + str(y) + 'は' + str(z))\n",
    "    print('%d時の' % x)\n",
    "\n",
    "print(reply(12, '気温', 22.4))"
   ]
  },
  {
   "cell_type": "code",
   "execution_count": 20,
   "metadata": {
    "collapsed": false
   },
   "outputs": [
    {
     "name": "stdout",
     "output_type": "stream",
     "text": [
      "Mzbyv, Ig'h wlmv.\n",
      "Maybe, It's done.\n"
     ]
    }
   ],
   "source": [
    "# 08. 暗号文\n",
    "# 与えられた文字列の各文字を，以下の仕様で変換する関数cipherを実装せよ．\n",
    "# •英小文字ならば(219 - 文字コード)の文字に置換\n",
    "# •その他の文字はそのまま出力\n",
    "# この関数を用い，英語のメッセージを暗号化・復号化せよ．\n",
    "\n",
    "def cipher(a):\n",
    "    secret = ''\n",
    "    for word in a:\n",
    "        if word.islower():\n",
    "            secret += chr(219-ord(word))\n",
    "        else:\n",
    "            secret += word\n",
    "    return secret\n",
    "\n",
    "print(cipher(\"Maybe, It's done.\"))\n",
    "print(cipher(cipher(\"Maybe, It's done.\")))"
   ]
  },
  {
   "cell_type": "code",
   "execution_count": 17,
   "metadata": {
    "collapsed": false
   },
   "outputs": [
    {
     "data": {
      "text/plain": [
       "\"I codunl't bvielee that I cloud altlcauy utndnserad what I was rdenaig : the phanoeneml pwoer of the hamun mind .\""
      ]
     },
     "execution_count": 17,
     "metadata": {},
     "output_type": "execute_result"
    }
   ],
   "source": [
    "#09. Typoglycemia\n",
    "#スペースで区切られた単語列に対して，各単語の先頭と末尾の文字は残し，それ以外の文字の順序をランダムに並び替えるプログラムを作成せよ．\n",
    "# ただし，長さが４以下の単語は並び替えないこととする．適当な英語の文（例えば\"I couldn't believe that I could actually understand what I was reading : the phenomenal power of the human mind .\"）を与え，その実行結果を確認せよ．\n",
    "\n",
    "import random\n",
    "\n",
    "def typoglycemia(t):\n",
    "    result = []\n",
    "    for word in t.split(' '):\n",
    "        if len(word) <= 4:\n",
    "            result.append(word)\n",
    "        else:\n",
    "            w1 = word[1:-1]\n",
    "            w2 = random.sample(w1, len(w1))\n",
    "            result.append(word[0] + ''.join(w2) + word[-1])\n",
    "    return ' '.join(result)\n",
    "\n",
    "t = \"I couldn't believe that I could actually understand what I was reading : the phenomenal power of the human mind .\"\n",
    "typoglycemia(t)\n"
   ]
  },
  {
   "cell_type": "markdown",
   "metadata": {},
   "source": [
    "### 学んだこと\n",
    "- Pythonを使って、文字データの加工を体験できた。以下の加工ができそう。\n",
    "    - 文字数算出（Q3）\n",
    "    - フラグに基づいた特定のデータ抽出（Q4）\n",
    "    - 機密情報の暗号/復号？？できる？？（Q8）"
   ]
  }
 ],
 "metadata": {
  "kernelspec": {
   "display_name": "Python 3",
   "language": "python",
   "name": "python3"
  },
  "language_info": {
   "codemirror_mode": {
    "name": "ipython",
    "version": 3
   },
   "file_extension": ".py",
   "mimetype": "text/x-python",
   "name": "python",
   "nbconvert_exporter": "python",
   "pygments_lexer": "ipython3",
   "version": "3.6.0"
  }
 },
 "nbformat": 4,
 "nbformat_minor": 2
}
