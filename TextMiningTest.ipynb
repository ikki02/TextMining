{
 "cells": [
  {
   "cell_type": "code",
   "execution_count": 1,
   "metadata": {
    "collapsed": true
   },
   "outputs": [],
   "source": [
    "# matplotlib設定用コート\n",
    "# matplotlibに描画する度に（, fontproperties=font）引数を指定する。\n",
    "# なぜか設定ファイルはきかない。。。\n",
    "import os\n",
    "from matplotlib import pyplot as plt, font_manager\n",
    "\n",
    "font_manager._rebuild()\n",
    "font_dir = font_manager.win32FontDirectory()\n",
    "font_path = os.path.join(font_dir, 'SourceHanCodeJP-Regular.otf')\n",
    "font = font_manager.FontProperties(fname=font_path, size=14)"
   ]
  },
  {
   "cell_type": "markdown",
   "metadata": {},
   "source": [
    "### 文字の数え方\n",
    "- 英語\n",
    "- 日本語\n",
    " - 日本語の読み出しは、青空文庫のテキストを活用する。\n",
    "- 1文の文字量を計算する。\n",
    " - 文章を文に区切る。英語であればnltk.tokenize.sent_tokenize(text)が便利。\n",
    " - 日本語は英語ほど簡単に文を切り出せないため、個別のロジックが必要。"
   ]
  },
  {
   "cell_type": "code",
   "execution_count": 32,
   "metadata": {},
   "outputs": [
    {
     "name": "stdout",
     "output_type": "stream",
     "text": [
      "Counter({' ': 3, 'i': 2, 's': 2, 'T': 1, 'h': 1, 'a': 1, 'p': 1, 'e': 1, 'n': 1, '.': 1})\n",
      "\"i\"のtf: 2\n"
     ]
    }
   ],
   "source": [
    "# 文字の出現頻度の出し方：Coutner()\n",
    "# Counterクラスを使うと、キーに文字、値に出現頻度をまとめる辞書型が得られる。\n",
    "from collections import Counter\n",
    "string = \"This is a pen.\"\n",
    "cnt = Counter(string)\n",
    "print(cnt)\n",
    "print( '\"i\"のtf:', cnt['i'] )"
   ]
  },
  {
   "cell_type": "code",
   "execution_count": 6,
   "metadata": {},
   "outputs": [
    {
     "name": "stdout",
     "output_type": "stream",
     "text": [
      "こころ\n",
      "夏目漱石\n",
      "\n",
      "\n",
      "上　先生と私\n",
      "\n",
      "\n",
      "一\n",
      "\n",
      "　私はその人を常に先生と呼んでいた。だからここでもただ先生と書くだけで本名は打ち明けない。これは世間を憚かる遠慮というよりも、その方が私にとって自然だからである。私はその人の記憶を呼び起すごとに、すぐ「先生」といいたくなる。筆を執っても心持は同じ事である。よそよそしい頭文字などはとても使う気にならない。\n",
      "　私が先生と知り合いになったのは鎌倉である。その時私はまだ若々しい書生であった。暑中休暇を利用して海水浴に行った友達からぜひ来いという端書を受け取ったので、私は多少の金を工面して、出掛ける事にした。私は金の工面に二、三日を費やした。ところが私が鎌倉に着いて三日と経たないうちに、私を呼び寄せた友達は、急に国元から帰れという電報を受け取った。電報には母が病気だからと断ってあったけれども友達はそれを信じなかった。友達はかねてから国元にいる親たちに勧まない結婚を強いられていた。彼は現代の習慣からいうと結婚するにはあまり年が若過ぎた。それに肝心の当人が気に入らなかった。それで夏休みに当然帰るべきところを、わざと避けて東京の近くで遊んでいたのである。彼は電報を私に見せてどうしようと相談をした。私にはどうしていいか分らなかった。けれども実際彼の母が病気であるとすれば彼は固より帰るべきはずであった。それで彼はとうとう帰る事になった。せっかく来た私は一人取り残された。\n",
      "　学校の授業が始まるにはまだ大分日数があるので鎌倉におってもよし、帰ってもよいという境遇にいた私は、当分元の宿に留まる覚悟をした。友達は中国のある資産家の息子で金に不自由のない男であったけれども、学校が学校なのと年が年なので、生活の程度は私とそう変りもしなかった。したがって一人ぼっちになった私は別に恰好な宿を探す面倒ももたなかったのである。\n"
     ]
    }
   ],
   "source": [
    "# 青空文庫のデータ読み出しスクリプト\n",
    "# ルビなどのタグ情報を削除するAozora.pyファイルを使う。\n",
    "from aozora import Aozora\n",
    "aozora = Aozora('D:/1.programming/python/PythonTextMining/Data/773_ruby_5968/kokoro.txt')\n",
    "c = 0\n",
    "for u in aozora.read():\n",
    "    print(u)\n",
    "    c += 1\n",
    "    if c == 12: #全編は長いので途中で止める。\n",
    "        break"
   ]
  },
  {
   "cell_type": "code",
   "execution_count": 33,
   "metadata": {},
   "outputs": [
    {
     "name": "stdout",
     "output_type": "stream",
     "text": [
      "[('の', 12476), ('い', 10299), ('る', 8725), ('て', 8601), ('な', 8571), ('と', 8113), ('に', 7616), ('。', 7486), ('か', 7303), ('し', 6947), ('は', 6879), ('、', 6773), ('で', 6227), ('た', 6131), ('を', 6119), ('が', 6000), ('っ', 5629), ('ら', 5552), ('う', 5326), ('も', 5220), ('ん', 4015), ('だ', 3905), ('あ', 3902), ('す', 3680), ('く', 3328), ('れ', 3279), ('ま', 3273), ('「', 3238), ('」', 3238), ('り', 3060), ('こ', 2684), ('そ', 2464), ('\\n', 2340), ('人', 2287), ('よ', 2152), ('え', 1829), ('さ', 1733), ('事', 1491), ('云', 1423), ('ど', 1404), ('け', 1392), ('君', 1315), ('ろ', 1308), ('や', 1300), ('き', 1294), ('出', 1233), ('見', 1216), ('つ', 1174), ('ち', 1121), ('へ', 1097)]\n"
     ]
    }
   ],
   "source": [
    "# -*- coding: utf-8 -*-\n",
    "# 4.1.1節 文字の出現頻度  青空文庫のテキストを取り込んで、文字の出現回数を数える\n",
    "from collections import Counter\n",
    "from aozora import Aozora\n",
    "aozora = Aozora(\"wagahaiwa_nekodearu.txt\")\n",
    " \n",
    "# 文字ごとの出現頻度を調べる\n",
    "string = '\\n'.join(aozora.read())  # パラグラフをすべて結合して1つの文字列にする\n",
    "cnt = Counter(string)\n",
    "# 頻度順にソートして出力する\n",
    "print(sorted(cnt.items(), key=lambda x: x[1], reverse=True)[:50])"
   ]
  },
  {
   "cell_type": "code",
   "execution_count": 35,
   "metadata": {},
   "outputs": [
    {
     "name": "stdout",
     "output_type": "stream",
     "text": [
      ">Fellow-Citizens of the Senate and of the House of Representatives:\n",
      "\n",
      "Among the vicissitudes incident to life no event could have filled me with greater anxieties than that of which the notification was transmitted by your order, and received on the 14th day of the present month.<\n",
      ">On the one hand, I was summoned by my Country, whose voice I can never hear but with veneration and love, from a retreat which I had chosen with the fondest predilection, and, in my flattering hopes, with an immutable decision, as the asylum of my declining years -- a retreat which was rendered every day more necessary as well as more dear to me by the addition of habit to inclination, and of frequent interruptions in my health to the gradual waste committed on it by time.<\n",
      ">On the other hand,<\n"
     ]
    }
   ],
   "source": [
    "# -*- coding: utf-8 -*-\n",
    "# 4.1.2 テキストを文ごとに分割する\n",
    "# nltk.sent_tokenize(text)の区切り方を確認する。なかなか賢い。\n",
    "import nltk\n",
    "from nltk.corpus import inaugural\n",
    "text = inaugural.raw('1789-Washington.txt')[:775]\n",
    "sents = nltk.tokenize.sent_tokenize(text)\n",
    "for u in sents: #><で囲まれている範囲が切り出した文である。\n",
    "    print('>'+u+'<')"
   ]
  },
  {
   "cell_type": "code",
   "execution_count": 40,
   "metadata": {},
   "outputs": [
    {
     "name": "stdout",
     "output_type": "stream",
     "text": [
      "(長さ, 頻度)の形で出力している。一例をあげると、843文字の文が1つあった、ということ。\n",
      "[(843, 1), (695, 1), (692, 1), (654, 1), (572, 1), (570, 1), (515, 1), (487, 1), (477, 1), (436, 1), (369, 1), (315, 1), (279, 1), (278, 1), (230, 1), (209, 1), (183, 1), (179, 1), (169, 1), (138, 1), (119, 1), (118, 1), (63, 1)]\n"
     ]
    },
    {
     "data": {
      "image/png": "[encoded data removed]",
      "text/plain": [
       "<Figure size 432x288 with 1 Axes>"
      ]
     },
     "metadata": {},
     "output_type": "display_data"
    }
   ],
   "source": [
    "# -*- coding: utf-8 -*-\n",
    "# 4.1.2節　テキストを文ごとに分割し文字数を数える　文への分割\n",
    "import matplotlib.pyplot as plt\n",
    "import numpy as np\n",
    "import nltk\n",
    "from nltk.corpus import inaugural\n",
    "from collections import Counter\n",
    "text = inaugural.raw('1789-Washington.txt')\n",
    "sents = nltk.tokenize.sent_tokenize(text)   # sentsは1文ずつを要素とするリスト\n",
    "# sentsの文ごとの文字数のリストを作り、Counterで頻度を数える\n",
    "cnt = Counter(len(x) for x in sents)\n",
    "# 頻度と長さの降順にソートして表示\n",
    "print('(長さ, 頻度)の形で出力している。一例をあげると、843文字の文が1つあった、ということ。')\n",
    "print(sorted(cnt.items(), key=lambda x: [x[1], x[0]], reverse=True))\n",
    "\n",
    "nstring = np.array([len(x) for x in sents])\n",
    "plt.hist(nstring)\n",
    "plt.show()"
   ]
  },
  {
   "cell_type": "code",
   "execution_count": 46,
   "metadata": {},
   "outputs": [
    {
     "name": "stdout",
     "output_type": "stream",
     "text": [
      "頻度の多い順に文の長さを並び替えた場合：\n",
      "[(14, 248), (12, 229), (17, 228), (16, 226), (13, 220), (19, 219), (15, 219), (20, 216), (22, 213), (18, 213), (10, 207), (11, 207), (21, 203), (9, 201), (23, 199), (25, 199), (27, 193), (24, 175), (26, 175), (8, 172), (28, 167), (31, 165), (29, 162), (30, 141), (33, 131), (32, 131), (34, 131), (7, 128), (35, 126), (36, 126), (37, 125), (38, 124), (42, 122), (45, 111), (39, 108), (40, 105), (43, 103), (6, 101), (41, 100), (5, 98), (44, 94), (47, 92), (49, 85), (46, 80), (48, 77), (56, 74), (50, 72), (52, 72), (51, 71), (60, 71), (55, 68), (54, 62), (57, 60), (53, 58), (4, 57), (58, 52), (63, 50), (62, 49), (65, 46), (66, 45), (59, 44), (67, 44), (68, 40), (61, 38), (70, 37), (3, 37), (64, 35), (69, 34), (72, 30), (74, 27), (77, 27), (73, 26), (76, 25), (71, 24), (82, 22), (83, 22), (78, 22), (75, 21), (79, 19), (88, 19), (81, 18), (80, 18), (84, 17), (94, 14), (85, 14), (89, 13), (101, 13), (92, 13), (95, 13), (93, 13), (98, 13), (87, 12), (91, 12), (90, 12), (96, 11), (107, 11), (103, 11), (1, 10), (86, 10), (104, 9)]\n"
     ]
    },
    {
     "data": {
      "image/png": "[encoded data removed]",
      "text/plain": [
       "<Figure size 432x288 with 1 Axes>"
      ]
     },
     "metadata": {},
     "output_type": "display_data"
    },
    {
     "name": "stdout",
     "output_type": "stream",
     "text": [
      "文の長さ順に並べた場合：\n",
      "[(411, 1), (403, 1), (334, 1), (323, 1), (306, 1), (298, 1), (269, 1), (247, 1), (245, 1), (233, 1), (231, 1), (229, 1), (220, 1), (216, 1), (215, 1), (208, 1), (206, 1), (205, 1), (198, 1), (194, 1), (191, 1), (187, 1), (183, 1), (181, 1), (180, 2), (177, 1), (174, 1), (169, 2), (168, 2), (165, 1), (164, 1), (163, 3), (161, 1), (159, 1), (156, 2), (154, 2), (153, 2), (151, 1), (150, 1), (149, 1), (147, 3), (146, 1), (145, 1), (144, 1), (141, 2), (138, 2), (136, 3), (135, 1), (134, 4), (133, 1), (132, 1), (131, 1), (130, 2), (129, 4), (128, 5), (127, 8), (126, 7), (125, 6), (124, 2), (123, 2), (122, 4), (121, 3), (120, 6), (119, 4), (118, 3), (117, 7), (116, 5), (115, 3), (114, 6), (113, 4), (112, 3), (111, 3), (110, 6), (109, 6), (108, 7), (107, 11), (106, 6), (105, 6), (104, 9), (103, 11), (102, 6), (101, 13), (100, 6), (99, 5), (98, 13), (97, 8), (96, 11), (95, 13), (94, 14), (93, 13), (92, 13), (91, 12), (90, 12), (89, 13), (88, 19), (87, 12), (86, 10), (85, 14), (84, 17), (83, 22)]\n"
     ]
    }
   ],
   "source": [
    "# -*- coding: utf-8 -*-\n",
    "# 4.1.2節 テキストを文ごとに分割し文字数を数える  文ごとの文字数分布の例\n",
    "from collections import Counter\n",
    "import re\n",
    "import numpy as np\n",
    "import matplotlib.pyplot as plt\n",
    "from aozora import Aozora\n",
    " \n",
    "aozora = Aozora(\"wagahaiwa_nekodearu.txt\")\n",
    " \n",
    "# 文に分解してから、文ごとに文字数をカウントする\n",
    "string = '\\n'.join(aozora.read())\n",
    "# 全角空白を取り除く。句点・改行で分割、。」の。は改行しない\n",
    "string = re.split('。(?!」)|\\n', re.sub('　', '', string))\n",
    "while '' in string:  string.remove('')   # 空行を除く\n",
    "\n",
    "cnt = Counter([len(x) for x in string])  # stringの要素（文）の長さをリストにする\n",
    "# 文の長さを頻度順にソートして出力する\n",
    "print('頻度の多い順に文の長さを並び替えた場合：')\n",
    "print(sorted(cnt.items(), key=lambda x: x[1], reverse=True)[:100])\n",
    "\n",
    "nstring = np.array([len(x) for x in string if len(x) < 150])\n",
    "#print('max', nstring.max()) #ちょい紛らわしいのでコメントアウト\n",
    "plt.hist(nstring, bins=nstring.max())\n",
    "plt.title('『我輩は猫である』文ごとの文字数分布')\n",
    "plt.xlabel('文の文字数')\n",
    "plt.ylabel('出現頻度')\n",
    "plt.show()\n",
    "\n",
    "# 文の長さ順にソートして出力する\n",
    "print('文の長さ順に並べた場合：')\n",
    "print(sorted(cnt.items(), reverse=True)[:100]) "
   ]
  },
  {
   "cell_type": "code",
   "execution_count": 38,
   "metadata": {},
   "outputs": [
    {
     "name": "stdout",
     "output_type": "stream",
     "text": [
      "average 25.55\n",
      "variance 130.8475\n",
      "std-deviation 11.438859208854701\n",
      "6\n",
      "7\n",
      "7\n",
      "13\n",
      "16\n",
      "19\n",
      "20\n",
      "22\n",
      "23\n",
      "28\n",
      "28\n",
      "30\n",
      "30\n",
      "32\n",
      "33\n",
      "35\n",
      "35\n",
      "38\n",
      "43\n",
      "46\n"
     ]
    },
    {
     "name": "stderr",
     "output_type": "stream",
     "text": [
      "D:\\0.programs\\Anaconda3\\lib\\site-packages\\matplotlib\\font_manager.py:1328: UserWarning: findfont: Font family ['IPAGothic'] not found. Falling back to DejaVu Sans\n",
      "  (prop.get_family(), self.defaultFamily[fontext]))\n"
     ]
    },
    {
     "data": {
      "image/png": "[encoded data removed]",
      "text/plain": [
       "<Figure size 432x288 with 1 Axes>"
      ]
     },
     "metadata": {},
     "output_type": "display_data"
    },
    {
     "data": {
      "image/png": "[encoded data removed]",
      "text/plain": [
       "<Figure size 432x288 with 1 Axes>"
      ]
     },
     "metadata": {},
     "output_type": "display_data"
    }
   ],
   "source": [
    "# -*- coding: utf-8 -*-\n",
    "# リスト 3-3 『吾輩は猫である』を文に分解し、文の文字数のヒストグラム・箱ひげ図を描くプログラム\n",
    "from aozora import Aozora\n",
    "import re\n",
    "import MeCab\n",
    "import numpy as np\n",
    "import matplotlib.pyplot as plt\n",
    "aozora = Aozora(\"wagahaiwa_nekodearu.txt\") #Aozoraクラスのインスタンスを作る。\n",
    " \n",
    "# 文に分解する\n",
    "string = '\\n'.join(aozora.read()) #正規表現で置換するために文字列に直す。\n",
    "# string = re.sub('　', '', string) #' 'を除外する。ただ、個人的には下1行のみで十分だと思う。\n",
    "string = re.split('。(?!」)|\\n', re.sub('　', '', string)) #改行キーを参考にリスト化する。\n",
    "while '' in string:  string.remove('')  # 空行を除く\n",
    "#m = MeCab.Tagger(\"-Ochasen\")            # MeCabで品詞分解する\n",
    " \n",
    "# 先頭20文について文単位で形態素解析し、名詞だけ抽出して、基本形を文ごとのリストにする\n",
    "lengthlist = np.array( [len(v) for v in string][3:23] ) #先頭20文の文字量を計算する。\n",
    "print('average', lengthlist.mean())\n",
    "print('variance', lengthlist.var())\n",
    "print('std-deviation', lengthlist.std())\n",
    "#for u in lengthlist: print(u)           # それぞれの文の長さを、出現順に表示。見づらいのでコメントアウトする。\n",
    "for u in sorted(lengthlist): print(u)   # それぞれの文の長さを、長さ順に表示\n",
    "\n",
    "#plt.rcParams['font.family'] = 'IPAGothic'\n",
    "fig = plt.figure()\n",
    "plt.title('文の長さ（文字数）', fontproperties=font)\n",
    "plt.xlabel('長さ', fontproperties=font)\n",
    "plt.ylabel('頻度', fontproperties=font)\n",
    "plt.hist(lengthlist, color='blue', bins=40)  # binsでヒストグラムの横軸区分数を指定 \n",
    "plt.show()\n",
    "\n",
    "# 箱ひげ図を作る\n",
    "plt.boxplot(lengthlist)\n",
    "plt.xticks([1], ['吾輩'], fontproperties=font)\n",
    "plt.title('箱ひげ図', fontproperties=font)\n",
    "plt.grid()\n",
    "plt.xlabel('文書', fontproperties=font)\n",
    "plt.ylabel('文の長さの頻度', fontproperties=font)\n",
    "plt.ylim([0,50])\n",
    "plt.show()"
   ]
  },
  {
   "cell_type": "markdown",
   "metadata": {},
   "source": [
    "### 単語毎の出現頻度（tf）\n",
    "- 英語の場合、空白区切りで単語を区切り、出現頻度を数える。\n",
    "- 日本語の場合、形態素解析器（以下、MeCab）を用いて出現頻度を数える。\n",
    " - 文章全体の含まれる形態素のtfを計測する。\n",
    " - 文章を1文に区切り、1文に含まれる形態素数を計測する。"
   ]
  },
  {
   "cell_type": "code",
   "execution_count": 57,
   "metadata": {},
   "outputs": [
    {
     "name": "stdout",
     "output_type": "stream",
     "text": [
      "1文に含まれる形態素数（頻度順）：ワシントン大統領の演説\n",
      "[(140, 1), (112, 1), (110, 1), (104, 1), (93, 1), (91, 1), (89, 1), (88, 1), (81, 1), (69, 1), (63, 1), (51, 1), (47, 1), (46, 1), (41, 1), (38, 1), (34, 1), (30, 1), (29, 1), (25, 1), (20, 1), (19, 1), (11, 1)]\n",
      "1文に含まれる形態素数（頻度順）：ケネディ大統領の演説\n",
      "[(7, 5), (25, 4), (21, 3), (19, 3), (14, 3), (11, 3), (67, 2), (44, 2), (40, 2), (36, 2), (20, 2), (18, 2), (13, 2), (82, 1), (55, 1), (54, 1), (48, 1), (47, 1), (45, 1), (38, 1), (33, 1), (30, 1), (28, 1), (27, 1), (26, 1), (23, 1), (22, 1), (16, 1), (6, 1), (4, 1)]\n",
      "1文に含まれる形態素数（頻度順）：オバマ大統領の演説\n",
      "[(4, 7), (19, 6), (30, 5), (28, 4), (23, 4), (21, 4), (18, 4), (11, 4), (10, 4), (9, 4), (8, 4), (40, 3), (26, 3), (24, 3), (17, 3), (16, 3), (13, 3), (12, 3), (7, 3), (5, 3), (57, 2), (51, 2), (36, 2), (33, 2), (31, 2), (25, 2), (20, 2), (14, 2), (1, 2), (85, 1), (69, 1), (66, 1), (62, 1), (56, 1), (54, 1), (46, 1), (37, 1), (35, 1), (32, 1), (27, 1), (15, 1), (6, 1), (3, 1), (2, 1)]\n"
     ]
    },
    {
     "data": {
      "image/png": "[encoded data removed]",
      "text/plain": [
       "<Figure size 432x288 with 1 Axes>"
      ]
     },
     "metadata": {},
     "output_type": "display_data"
    }
   ],
   "source": [
    "# -*- coding: utf-8 -*-\n",
    "# リスト 4-1(2) 文に分割し、さらに単語に分割して数える例\n",
    "import matplotlib.pyplot as plt\n",
    "import numpy as np\n",
    "import nltk\n",
    "from nltk.corpus import inaugural\n",
    "from collections import Counter\n",
    "sents_Washington = nltk.tokenize.sent_tokenize(inaugural.raw('1789-Washington.txt'))\n",
    "sents_Kennedy= nltk.tokenize.sent_tokenize(inaugural.raw('1961-Kennedy.txt'))\n",
    "sents_Obama = nltk.tokenize.sent_tokenize(inaugural.raw('2009-Obama.txt'))\n",
    "\n",
    "cnt_Washington = Counter(len(sent.split()) for sent in sents_Washington)\n",
    "cnt_Kennedy = Counter(len(sent.split()) for sent in sents_Kennedy)\n",
    "cnt_Obama = Counter(len(sent.split()) for sent in sents_Obama)\n",
    "print('1文に含まれる形態素数（頻度順）：ワシントン大統領の演説')\n",
    "print(sorted(cnt_Washington.items(), key=lambda x: [x[1], x[0]], reverse=True))\n",
    "print('1文に含まれる形態素数（頻度順）：ケネディ大統領の演説')\n",
    "print(sorted(cnt_Kennedy.items(), key=lambda x: [x[1], x[0]], reverse=True))\n",
    "print('1文に含まれる形態素数（頻度順）：オバマ大統領の演説')\n",
    "print(sorted(cnt_Obama.items(), key=lambda x: [x[1], x[0]], reverse=True))\n",
    "\n",
    "nstring_Washington = np.array( [len(sent.split()) for sent in sents_Washington] )\n",
    "nstring_Kennedy = np.array( [len(sent.split()) for sent in sents_Kennedy] )\n",
    "nstring_Obama = np.array( [len(sent.split()) for sent in sents_Obama] )\n",
    "\n",
    "plt.hist([nstring_Washington, nstring_Kennedy, nstring_Obama],\n",
    "          color=['blue', 'red', 'green'],\n",
    "          label=['1789年ワシントン', '1961年ケネディ', '2007年オバマ'])\n",
    "plt.title('1789年ワシントン/1961年ケネディ/2007年オバマ就任演説の文ごとの単語数分布')\n",
    "\n",
    "plt.xlabel('文の単語数')\n",
    "plt.ylabel('出現頻度')\n",
    "plt.legend()\n",
    "plt.show()"
   ]
  },
  {
   "cell_type": "markdown",
   "metadata": {},
   "source": [
    "### MeCab（IPA辞書）をWindowsに入れるためにやったことリスト\n",
    "1. MeCabのインストール\n",
    " - 参考ＵＲＬ：[http://memopy.blogspot.jp/2017/11/pythonwindowsmecab.html]\n",
    " - 64bit版(mecab-0.996-64.exe)のインストール：[https://github.com/ikegami-yukino/mecab/releases]\n",
    " - UTF-8を選択。（そうしないと、ファイルの入出力による操作がきかなくなると思われる。）\n",
    " - 生成される「\\sdk」直下を「C:\\Program Files (x86)\\MeCab\\sdk」へコピー。（これを設定して動いたので、多分かなり重要。）\n",
    "1. Pathを通す\n",
    " - 「コントロールパネル」の「システムの詳細設定」から「環境変数」を設定できる。\n",
    " - 「Path」に「C:\\MeCab\\bin」 を追加。\n",
    " - 後からpython連携させるときに必要なので「MECABRC」に「C:\\MeCab\\etc\\mecabrc」も追加。\n",
    "1. Visual Studioのインストール\n",
    " - Visual Studio 2017 Communityを入れた。[https://www.visualstudio.com/ja/thank-you-downloading-visual-studio/?sku=Community&rel=15]\n",
    " - C++を使える環境があれば、やらなくてもよい？\n",
    "1. pip install mecab-python-windows\n",
    " - 参考ＵＲＬ：[https://qiita.com/yukinoi/items/990b6933d9f21ba0fb43]\n",
    "\n",
    "上記の内、重要なのは①、④。場合によっては②③は省略できるのかも。\n",
    "- 本家ＵＲＬ：[http://taku910.github.io/mecab/]\n"
   ]
  },
  {
   "cell_type": "markdown",
   "metadata": {},
   "source": [
    "### MeCabの使い方\n",
    "1. 分かち書きモード：入力文を分かち書きする。    \n",
    "分かち書きした文章は、英語と同じように処理ができるだろう。\n",
    " - 書き方：mecab -Owakati -o <outputfile> <inputfile>\n",
    "1. 語の情報を列挙する：分かち書きした上で、「元の語、読み、原形、品詞情報、追加の情報」の形に纏める。\n",
    " - 書き方①：-Ochasen（形態素解析プログラムChaSenと互換の出力）\n",
    " - 書き方②：-Odump（全情報を出力）"
   ]
  },
  {
   "cell_type": "code",
   "execution_count": 63,
   "metadata": {},
   "outputs": [
    {
     "name": "stdout",
     "output_type": "stream",
     "text": [
      "すもも\tスモモ\tすもも\t名詞-一般\t\t\n",
      "も\tモ\tも\t助詞-係助詞\t\t\n",
      "もも\tモモ\tもも\t名詞-一般\t\t\n",
      "も\tモ\tも\t助詞-係助詞\t\t\n",
      "もも\tモモ\tもも\t名詞-一般\t\t\n",
      "の\tノ\tの\t助詞-連体化\t\t\n",
      "うち\tウチ\tうち\t名詞-非自立-副詞可能\t\t\n",
      "EOS\n",
      "\n"
     ]
    },
    {
     "data": {
      "text/plain": [
       "[['すもも', 'スモモ', 'すもも', '名詞-一般'],\n",
       " ['も', 'モ', 'も', '助詞-係助詞'],\n",
       " ['もも', 'モモ', 'もも', '名詞-一般'],\n",
       " ['も', 'モ', 'も', '助詞-係助詞'],\n",
       " ['もも', 'モモ', 'もも', '名詞-一般'],\n",
       " ['の', 'ノ', 'の', '助詞-連体化'],\n",
       " ['うち', 'ウチ', 'うち', '名詞-非自立-副詞可能'],\n",
       " ['EOS']]"
      ]
     },
     "execution_count": 63,
     "metadata": {},
     "output_type": "execute_result"
    }
   ],
   "source": [
    "# MeCabによる形態素解析\n",
    "from aozora import Aozora\n",
    "import re\n",
    "import MeCab\n",
    "import numpy as np\n",
    "import matplotlib.pyplot as plt\n",
    "\n",
    "m = MeCab.Tagger(\"-Ochasen\") # MeCabのインスタンスを作りmとする\n",
    "out = m.parse(\"すもももももももものうち\") # 入力stringをm.parseで分解する\n",
    "print(out)\n",
    "\n",
    "xlist = [u.split() for u in out.splitlines()]\n",
    "xlist"
   ]
  },
  {
   "cell_type": "code",
   "execution_count": 69,
   "metadata": {},
   "outputs": [
    {
     "data": {
      "text/plain": [
       "Counter({'名詞-一般': 3, '助詞-係助詞': 2, '助詞-連体化': 1, '名詞-非自立-副詞可能': 1})"
      ]
     },
     "execution_count": 69,
     "metadata": {},
     "output_type": "execute_result"
    }
   ],
   "source": [
    "# 品詞情報のまとめ方\n",
    "# 場合によっては、細かい品詞情報はいらないだろう。例えば、「名詞-一般」は「名詞」だけでよい。\n",
    "# あと、EOSがリストに含まれるとfor文でエラーになる。EOSを除外する処理も必要。\n",
    "testlist = []\n",
    "for u in xlist:\n",
    "    testlist.append(u[3])\n",
    "testcnt = Counter(testlist)\n",
    "testcnt"
   ]
  },
  {
   "cell_type": "code",
   "execution_count": 58,
   "metadata": {},
   "outputs": [
    {
     "name": "stdout",
     "output_type": "stream",
     "text": [
      "[('の', 9193), ('。', 7486), ('て', 6873), ('、', 6773), ('は', 6424), ('に', 6267), ('を', 6071), ('と', 5515), ('が', 5339), ('た', 3987), ('で', 3805), ('「', 3238), ('」', 3238), ('も', 2474), ('ない', 2391), ('だ', 2367), ('し', 2326), ('から', 2041), ('ある', 1731), ('な', 1611), ('ん', 1568), ('か', 1530), ('いる', 1251), ('事', 1207), ('へ', 1034), ('する', 998), ('う', 992), ('もの', 981), ('君', 973), ('です', 973), ('云う', 937), ('主人', 932), ('よう', 696), ('ね', 682), ('この', 649), ('御', 636), ('ば', 617), ('人', 602), ('その', 576), ('一', 554), ('そう', 554), ('何', 539), ('なる', 529), ('さ', 512), ('よ', 509), ('なら', 483), ('吾輩', 482), ('い', 476), ('ます', 458), ('じゃ', 448), ('…', 433), ('これ', 414), ('記号-空白', 409), ('なっ', 404), ('それ', 386), ('来', 364), ('れ', 356), ('見', 350), ('でも', 348), ('時', 344), ('迷亭', 343), ('――', 333), ('ませ', 330), ('いい', 320), ('ところ', 315), ('まで', 313), ('方', 312), ('三', 311), ('二', 302), ('ず', 299), ('上', 294), ('まし', 289), ('寒月', 286), ('顔', 282), ('ぬ', 277), ('先生', 274), ('見る', 273), ('人間', 272), ('だろ', 270), ('くらい', 269), ('僕', 268), ('たら', 264), ('さん', 260), ('なく', 258), ('気', 250), ('猫', 249), ('あり', 249), ('だけ', 245), ('出', 245), ('出来', 244), ('云っ', 241), ('また', 238), ('中', 233), ('思っ', 232), ('ばかり', 231), ('十', 230), ('ごとく', 225), ('あっ', 221), ('どう', 219), ('って', 214)]\n"
     ]
    }
   ],
   "source": [
    "# -*- coding: utf-8 -*-\n",
    "# リスト 4-2 文書全体を単語に分解し、出現頻度を数えるプログラム例\n",
    "from collections import Counter\n",
    "from aozora import Aozora\n",
    "import MeCab\n",
    " \n",
    "aozora = Aozora(\"wagahaiwa_nekodearu.txt\")\n",
    "string = '\\n'.join(aozora.read())     # 1つの文字列データにする\n",
    " \n",
    "# 形態素解析して、語の出現頻度を数える\n",
    "m = MeCab.Tagger(\"-Ochasen\")          # MeCabで単語に分割する\n",
    "mecablist = []\n",
    "wlist = m.parse(string).splitlines()  # 結果を単語情報リストのリストに整形する\n",
    "for u in wlist:\n",
    "    xlist = []\n",
    "    for v in u.split():\n",
    "        xlist.append(v)\n",
    "    mecablist.append(xlist)\n",
    "\n",
    "# 得られた単語情報リストのリストから、単語の部分だけを取り出したリストを作る\n",
    "wordbodylist = []\n",
    "for u in mecablist:\n",
    "    wordbodylist.append(u[0])\n",
    "# 単語のリストで出現頻度を数える\n",
    "cnt = Counter(wordbodylist)\n",
    "# 頻度順に100個表示\n",
    "print(sorted(cnt.items(), key=lambda x: x[1], reverse=True)[:100])"
   ]
  },
  {
   "cell_type": "code",
   "execution_count": 60,
   "metadata": {},
   "outputs": [
    {
     "name": "stdout",
     "output_type": "stream",
     "text": [
      "1文の中に含まれる形態素数を頻度順に並び替える\n",
      "[(12, 360), (10, 359), (8, 355), (9, 352), (11, 346), (14, 337), (13, 331), (7, 325), (15, 307), (16, 301), (19, 280), (6, 271), (18, 271), (17, 254), (20, 252), (21, 242), (22, 213), (5, 203), (23, 192), (26, 185), (24, 185), (27, 168), (29, 167), (25, 166), (28, 153), (4, 151), (30, 144), (31, 132), (33, 116), (32, 114), (35, 108), (34, 102), (37, 98), (39, 96), (38, 95), (36, 91), (41, 80), (40, 77), (44, 69), (42, 66), (43, 57), (45, 52), (46, 52), (48, 44), (47, 44), (53, 44), (52, 39), (3, 38), (50, 38), (54, 30), (51, 30), (56, 30), (49, 25), (55, 24), (60, 23), (62, 23), (57, 19), (61, 19), (66, 18), (58, 18), (59, 17), (64, 17), (65, 14), (67, 14), (2, 13), (70, 13), (79, 13), (68, 11), (63, 11), (72, 11), (69, 8), (77, 8), (80, 8), (76, 8), (86, 7), (73, 6), (78, 6), (75, 6), (71, 6), (82, 5), (81, 5), (74, 4), (87, 4), (83, 4), (85, 4), (88, 3), (105, 3), (95, 3), (108, 3), (100, 3), (103, 3), (93, 3), (89, 2), (160, 2), (197, 2), (91, 2), (104, 2), (102, 2), (90, 2), (84, 2)]\n"
     ]
    },
    {
     "data": {
      "image/png": "[encoded data removed]",
      "text/plain": [
       "<Figure size 432x288 with 1 Axes>"
      ]
     },
     "metadata": {},
     "output_type": "display_data"
    }
   ],
   "source": [
    "# -*- coding: utf-8 -*-\n",
    "# リスト 4-3  文ごとに単語に分解し、出現頻度を数えるプログラム例\n",
    "from collections import Counter\n",
    "import re\n",
    "import numpy as np\n",
    "import matplotlib.pyplot as plt\n",
    "from aozora import Aozora\n",
    "import MeCab\n",
    " \n",
    "aozora = Aozora(\"wagahaiwa_nekodearu.txt\")\n",
    " \n",
    "# 入力テキストを文に分解する。単純に'。'で分割する\n",
    "string = '\\n'.join(aozora.read())\n",
    "string = re.sub('　', '', string)\n",
    "string = re.split('。(?!」)|\\n', re.sub('　', '', string))\n",
    "while '' in string:  string.remove('')      # 空行を除く\n",
    "\n",
    "# 文ごとに形態素解析して、文当たりの語の数を数える\n",
    "m = MeCab.Tagger(\"-Ochasen\")                # MeCabで単語に分割する\n",
    "wordcountlist = []\n",
    "for sentense in string:\n",
    "    mecablist = []\n",
    "    wlist = m.parse(sentense).splitlines()  # 結果を単語情報リストのリストに整形する\n",
    "    for u in wlist:\n",
    "        xlist = []\n",
    "        for v in u.split():\n",
    "            xlist.append(v)\n",
    "        mecablist.append(xlist)\n",
    "    # 得られた単語情報リストのリストから、単語の部分だけを取り出したリストを作る\n",
    "    wordbodylist = []\n",
    "    for u in mecablist:\n",
    "        wordbodylist.append(u[0])\n",
    "    # 単語数のリストを作る\n",
    "    wordcountlist.append(len(wordbodylist))\n",
    "\n",
    "cnt = Counter(wordcountlist)\n",
    "# 結果をカウント数の降順にソート\n",
    "print('1文の中に含まれる形態素数を頻度順に並び替える')\n",
    "print(sorted(cnt.items(), key=lambda x: x[1], reverse=True)[:100])\n",
    "u = np.array(wordcountlist)\n",
    "nstring = u[ np.where(u < 150) ]\n",
    "plt.hist(nstring, bins=nstring.max())\n",
    "plt.title('『吾輩は猫である』文ごとの単語数分布')\n",
    "plt.xlabel('文の単語数')\n",
    "plt.ylabel('出現頻度')\n",
    "plt.show()"
   ]
  },
  {
   "cell_type": "markdown",
   "metadata": {},
   "source": [
    "### 潜在的意味解析モデル\n",
    "- gensimモジュール"
   ]
  },
  {
   "cell_type": "code",
   "execution_count": 1,
   "metadata": {},
   "outputs": [
    {
     "name": "stderr",
     "output_type": "stream",
     "text": [
      "D:\\0.programs\\Anaconda3\\lib\\site-packages\\gensim\\utils.py:1197: UserWarning: detected Windows; aliasing chunkize to chunkize_serial\n",
      "  warnings.warn(\"detected Windows; aliasing chunkize to chunkize_serial\")\n"
     ]
    },
    {
     "name": "stdout",
     "output_type": "stream",
     "text": [
      "[(0, '0.703*\"trees\" + 0.538*\"graph\" + 0.402*\"minors\" + 0.187*\"survey\" + 0.061*\"system\" + 0.060*\"response\" + 0.060*\"time\" + 0.058*\"user\" + 0.049*\"computer\" + 0.035*\"interface\"'), (1, '0.460*\"system\" + 0.373*\"user\" + 0.332*\"eps\" + 0.328*\"interface\" + 0.320*\"response\" + 0.320*\"time\" + 0.293*\"computer\" + 0.280*\"human\" + 0.171*\"survey\" + -0.161*\"trees\"'), (2, '0.456*\"time\" + 0.456*\"response\" + -0.352*\"eps\" + -0.340*\"human\" + -0.318*\"interface\" + -0.277*\"system\" + 0.272*\"survey\" + 0.213*\"user\" + -0.183*\"trees\" + 0.114*\"minors\"')]\n",
      "[[(1, 0.5200703306361845), (0, 0.06600783396090529), (2, -0.37649581219168893)], [(1, 0.5200703306361845), (0, 0.06600783396090529), (2, -0.37649581219168893)], [(1, 0.5200703306361845), (0, 0.06600783396090529), (2, -0.37649581219168893)]]\n",
      "[[(1, 0.7609563167700035), (2, 0.5080674581001661), (0, 0.19667592859142588)], [(1, 0.7609563167700035), (2, 0.5080674581001661), (0, 0.19667592859142588)], [(1, 0.7609563167700035), (2, 0.5080674581001661), (0, 0.19667592859142588)]]\n",
      "[[(1, 0.7241860626752507), (0, 0.08992639972446603), (2, -0.4089897315537627)], [(1, 0.7241860626752507), (0, 0.08992639972446603), (2, -0.4089897315537627)], [(1, 0.7241860626752507), (0, 0.08992639972446603), (2, -0.4089897315537627)]]\n",
      "[[(1, 0.6320551586003428), (0, 0.07585847652178339), (2, -0.5393533605733885)], [(1, 0.6320551586003428), (0, 0.07585847652178339), (2, -0.5393533605733885)], [(1, 0.6320551586003428), (0, 0.07585847652178339), (2, -0.5393533605733885)]]\n",
      "[[(2, 0.6709338585295901), (1, 0.5737308483002945), (0, 0.10150299184980174)], [(2, 0.6709338585295901), (1, 0.5737308483002945), (0, 0.10150299184980174)], [(2, 0.6709338585295901), (1, 0.5737308483002945), (0, 0.10150299184980174)]]\n",
      "[[(0, 0.703210893937831), (1, -0.1611518021402594), (2, -0.18266089635241445)], [(0, 0.703210893937831), (1, -0.1611518021402594), (2, -0.18266089635241445)], [(0, 0.703210893937831), (1, -0.1611518021402594), (2, -0.18266089635241445)]]\n",
      "[[(0, 0.8774787673119828), (2, -0.10880822642632826), (1, -0.167589068646596)], [(0, 0.8774787673119828), (2, -0.10880822642632826), (1, -0.167589068646596)], [(0, 0.8774787673119828), (2, -0.10880822642632826), (1, -0.167589068646596)]]\n",
      "[[(0, 0.9098624686818573), (2, 0.0008711787488691752), (1, -0.14086553628719214)], [(0, 0.9098624686818573), (2, 0.0008711787488691752), (1, -0.14086553628719214)], [(0, 0.9098624686818573), (2, 0.0008711787488691752), (1, -0.14086553628719214)]]\n",
      "[[(0, 0.6165825350569277), (2, 0.255686979595994), (1, 0.05392907566389234)], [(0, 0.6165825350569277), (2, 0.255686979595994), (1, 0.05392907566389234)], [(0, 0.6165825350569277), (2, 0.255686979595994), (1, 0.05392907566389234)]]\n"
     ]
    }
   ],
   "source": [
    "# -*- coding: utf-8 -*-\n",
    "# リスト 2-7  潜在的意味解析モデルを使って話題を抽出するプログラム例\n",
    "# LSALDAやWord2Vec等のライブラリを含むgensim\n",
    "# 細かい説明は以下参照。http://hivecolor.com/id/58\n",
    "from gensim import corpora, models, similarities\n",
    "# textsをあらかじめ準備しておく（分かち書き文のリスト）\n",
    "num_topics = 3\n",
    "documents = [\"Human machine interface for lab abc computer applications\",\n",
    "             \"A survey of user opinion of computer system response time\",\n",
    "             \"The EPS user interface management system\",\n",
    "             \"System and human system engineering testing of EPS\",\n",
    "             \"Relation of user perceived response time to error measurement\",\n",
    "             \"The generation of random binary unordered trees\",\n",
    "             \"The intersection graph of paths in trees\",\n",
    "             \"Graph minors IV Widths of trees and well quasi ordering\",\n",
    "             \"Graph minors A survey\"]\n",
    "stoplist = set('for a of the and to in'.split()) #集合を手っ取り早く創りたい時、この書き方意外と役立つかも。\n",
    "#分かち書きに相当する処理。stoplistsの形態素は無視する。\n",
    "texts = [[word for word in document.lower().split() if word not in stoplist]\n",
    "         for document in documents]\n",
    "# remove words that appear only once\n",
    "# 空リスト[]にtextsのリストを足して、tokensをまとめる。\n",
    "all_tokens = sum(texts, [])\n",
    "#set(all_tokens) #typeを出したいとき\n",
    "tokens_once = set(word for word in set(all_tokens) if all_tokens.count(word) == 1)\n",
    "texts = [[word for word in text if word not in tokens_once]\n",
    "         for text in texts]\n",
    "\n",
    "dictionary = corpora.Dictionary(texts)  # 入力textsリストをdictionaryに変換。トークンをまとめる。\n",
    "#dictionary.save_as_text('./dictionary.dict') #dictionaryをテキストファイルに書き出し。\n",
    "corpus = [dictionary.doc2bow(text) for text in texts]  # corpusを作成\n",
    "#tfidfの計算方法は以下参照。http://tawara.hatenablog.com/entry/2016/11/08/021408\n",
    "tfidf = models.TfidfModel(corpus)       # TFIDFモデルを作成\n",
    "corpus_tfidf = tfidf[corpus]            # corpusをTF-IDFで重要語のみに変換\n",
    "lsi = models.LsiModel(corpus_tfidf, id2word=dictionary, num_topics=num_topics)\n",
    "                                        # corpus_tfidfからLSIモデルを作成\n",
    "# トピックの表示\n",
    "print(lsi.show_topics(num_topics, formatted=True))     # topicを表示\n",
    "corpus_lsi = lsi[corpus_tfidf]          # corpus_tfidfのすべての文をLSIに変換\n",
    "for doc in corpus_lsi:\n",
    "    x = [ sorted(doc, key=lambda u: u[1], reverse=True) for u in doc if len(u)!=0]\n",
    "    print(x)"
   ]
  },
  {
   "cell_type": "code",
   "execution_count": 40,
   "metadata": {},
   "outputs": [
    {
     "data": {
      "text/plain": [
       "[[(0, 1), (1, 1), (2, 1)],\n",
       " [(0, 1), (3, 1), (4, 1), (5, 1), (6, 1), (7, 1)],\n",
       " [(2, 1), (5, 1), (7, 1), (8, 1)],\n",
       " [(1, 1), (5, 2), (8, 1)],\n",
       " [(3, 1), (6, 1), (7, 1)],\n",
       " [(9, 1)],\n",
       " [(9, 1), (10, 1)],\n",
       " [(9, 1), (10, 1), (11, 1)],\n",
       " [(4, 1), (10, 1), (11, 1)]]"
      ]
     },
     "execution_count": 40,
     "metadata": {},
     "output_type": "execute_result"
    }
   ],
   "source": [
    "# corpusの見方\n",
    "# dictionary.doc2bow(text)でcorpusが纏められる。\n",
    "# 入力したtextがdictionaryにあるかどうかチェックする。なければ無視される。\n",
    "# あれば (dictionaryのID, 出現回数) の形でまとめられる。\n",
    "corpus"
   ]
  },
  {
   "cell_type": "markdown",
   "metadata": {},
   "source": [
    "### 自然言語処理\n",
    "- NLTKモジュール"
   ]
  },
  {
   "cell_type": "code",
   "execution_count": 8,
   "metadata": {},
   "outputs": [
    {
     "name": "stdout",
     "output_type": "stream",
     "text": [
      "showing info https://raw.githubusercontent.com/nltk/nltk_data/gh-pages/index.xml\n"
     ]
    },
    {
     "data": {
      "text/plain": [
       "True"
      ]
     },
     "execution_count": 8,
     "metadata": {},
     "output_type": "execute_result"
    }
   ],
   "source": [
    "# 自然言語処理のパッケージNLTK\n",
    "# ダウンロードしたいコーパス等を選ぶ。\n",
    "# 基本はCollcetionstタブのbookをダウンロードすればよい。\n",
    "import nltk\n",
    "nltk.download()"
   ]
  },
  {
   "cell_type": "code",
   "execution_count": 8,
   "metadata": {},
   "outputs": [
    {
     "name": "stdout",
     "output_type": "stream",
     "text": [
      "*** Introductory Examples for the NLTK Book ***\n",
      "Loading text1, ..., text9 and sent1, ..., sent9\n",
      "Type the name of the text or sentence to view it.\n",
      "Type: 'texts()' or 'sents()' to list the materials.\n",
      "text1: Moby Dick by Herman Melville 1851\n",
      "text2: Sense and Sensibility by Jane Austen 1811\n",
      "text3: The Book of Genesis\n",
      "text4: Inaugural Address Corpus\n",
      "text5: Chat Corpus\n",
      "text6: Monty Python and the Holy Grail\n",
      "text7: Wall Street Journal\n",
      "text8: Personals Corpus\n",
      "text9: The Man Who Was Thursday by G . K . Chesterton 1908\n"
     ]
    }
   ],
   "source": [
    "# -*- coding: utf-8 -*-\n",
    "# 2.5.2節  NLTK に含まれるコーパスデータ　　NTLKのデータを表示する\n",
    "from nltk.book import *"
   ]
  },
  {
   "cell_type": "code",
   "execution_count": 12,
   "metadata": {},
   "outputs": [
    {
     "name": "stdout",
     "output_type": "stream",
     "text": [
      "Pierre Vinken , 61 years old , will join the board as a nonexecutive director Nov. 29 . \n",
      "Mr. Vinken is chairman of Elsevier N.V. , the Dutch publishing group . \n",
      "Rudolph Agnew , 55 years old and former chairman of Consolidated Gold Fields PLC , was named *-1 a nonexecutive director of this British industrial conglomerate . \n",
      "A form of asbestos once used * * to make Kent cigarette filters has caused a high percentage of cancer deaths among a group of workers exposed * to it more than 30 years ago , researchers reported 0 *T*-1 . \n"
     ]
    }
   ],
   "source": [
    "# 中身を表示する。\n",
    "c = 0\n",
    "for u in text7:\n",
    "    print(u, end=' ')\n",
    "    if u=='.':\n",
    "        print()\n",
    "    c += 1\n",
    "    if c == 99: #全編だと長いので途中で止める。\n",
    "        break"
   ]
  },
  {
   "cell_type": "code",
   "execution_count": 25,
   "metadata": {
    "scrolled": true
   },
   "outputs": [
    {
     "data": {
      "text/plain": [
       "'Fellow-Citizens of the Senate and of the House of Representatives:\\n\\nAmong the vicissitudes incident to life no event could have filled me with greater anxieties than that of which the notification was transmitted by your order, and received on the 14th day of the present month. On the one hand, I was summoned by my Country, whose voice I can never hear but with veneration and love, from a retreat which I had chosen with the fondest predilection, and, in my flattering hopes, with an immutable decision, as the asylum of my declining years -- a retreat which was rendered every day more necessary as well as more dear to me by the addition of habit to inclination, and of frequent interruptions in my health to the gradual waste committed on it by time. On the other hand,'"
      ]
     },
     "execution_count": 25,
     "metadata": {},
     "output_type": "execute_result"
    }
   ],
   "source": [
    "# 1789年のワシントン大統領の就任演説のテキスト\n",
    "from nltk.corpus import inaugural\n",
    "inaugural.raw('1789-Washington.txt')[:775] #全編だと長いので途中で止める。"
   ]
  },
  {
   "cell_type": "code",
   "execution_count": 30,
   "metadata": {},
   "outputs": [
    {
     "data": {
      "text/plain": [
       "'\\nJEITA Public Morphologically Tagged Corpus (in ChaSen format)\\nJEITA 形態素解析済みコーパス (ChaSen 形式)\\n\\nCreated and distributed by Masato Hagiwara (http://lilyx.net/)\\n作成＆配布 萩原 正人 (http://lilyx.net/)\\n\\n* About this corpus - 本コーパスについて\\n\\nThis copurs, JEITA Public Morphologically Tagged Corpus (in ChaSen format), is a public, automatically tagged (morphologically analyzed) corpus of Project Sugita Genpaku (http://www.genpaku.org/) and Aozora Bunko (http://www.aozora.gr.jp/), which themselves are freely available text collections like Project Gutenberg. The corpus data is originally distributed as \"JEITA Public Morphologically Tagged Corpus\" here:\\n\\n本コーパス 「JEITA 形態素解析済みコーパス (ChaSen 形式)」は、プロジェクト杉田玄白 (http://www.genpaku.org/) と青空文庫 (http://www.aozora.gr.jp/) のテキストを自動で形態素解析した、フリーで利用可能なタグ付きコーパスです。本コーパスは、本来、「JEITA 形態素解析済みコーパス」として、以下のページにおいて配布されているデータに基づいています。\\n\\nhttp://nlp.kuee.kyoto-u.ac.jp/NLP_Portal/jeita_corpus/index.html\\n\\nbut the files included in this copurs are not the original distribution data of JEITA Public Morphologically Tagged Corpus but the ones which are converted into ChaSen\\'s file formats for easier program access. For more information on the ChaSen morphological analyzer, you can refer to ChaSen\\'s official site: http://chasen-legacy.sourceforge.jp/ .\\n\\nただし、本コーパスに含まれているファイルは上記JEITA 形態素解析済みコーパスの配布データそのものではなく、プログラムからのアクセスを容易にするために ChaSen のファイル形式に変換してあります。ChaSen の詳細についてはオフィシャルサイト http://chasen-legacy.sourceforge.jp/ を参考してください。\\n\\n* Distributed files - 配布ファイル\\n\\n_readme.txt - this readme file\\nxxxx.chasen - corpus file in ChaSen format (xxxx refers to document ID)\\nxxxx_copyright.html (or xxxx.html) - copyright file correspondig to xxxx.chasen\\n\\n_readme.txt - 本 readme ファイル\\nxxxx.chasen - ChaSen 形式のコーパス本体ファイル (xxxx は文書 ID)\\nxxxx_copyright.html (もしくは xxxx.html) - xxxx.chasen に対応する版権情報ファイル\\n\\n* Access by NLTK (Natural Language Toolkit) Corpus Reader - NLTK のコーパスリーダーを使って読み込む\\n\\nSince this corpus is in ChaSen\\'s format, it can be easily accessed via ChaSen corpus reader for NLTK distributed here:\\n\\n本コーパスは ChaSen 形式であるため、NLTK のための ChaSen コーパスリーダー（以下で入手可能）を用いると簡単にアクセスできます:\\n\\nhttp://lilyx.net/pages/nltkjapanesecorpus.html\\n\\nFor the detailed usage of ChaSen corpus reader, see the above URL.\\n\\nChaSen コーパスリーダーの使用法の詳細については、上記 URL を参照してください。\\n\\n* Acknowledgement - 謝辞\\n\\nI thank the members of JEITA 言語資源分科会, especially the leader Prof. Hitoshi Isahara for allowing the conversion and reditributon of their Morphlogically Tagged Corpus. I also thank the members of Project Sugita Genpaku and Aozora bunko, and the developers of ChaSen morphological analyzer.\\n\\n本コーパスの元となった JEITA 形態素解析済みコーパスの変換および再配布の許可をいただいたJEITA 言語資源分科会の皆さま、特に委員長の井佐原均教授に感謝いたします。また、プロジェクト杉田玄白・青空文庫の公開、そして ChaSen の開発に携わる皆さまに感謝いたします。\\n\\n'"
      ]
     },
     "execution_count": 30,
     "metadata": {},
     "output_type": "execute_result"
    }
   ],
   "source": [
    "# 日本語のコーパスを参照する。\n",
    "from nltk.corpus import jeita\n",
    "jeita.readme()\n",
    "#jeita.fileids() #コメントアウトを外すと,利用可能なコーパス名の一覧が得られる。"
   ]
  },
  {
   "cell_type": "code",
   "execution_count": 13,
   "metadata": {},
   "outputs": [
    {
     "name": "stdout",
     "output_type": "stream",
     "text": [
      "アメリカ 　 ペンシルバニア 　 ゲティスバーグ 近く の 戦場 にて ８７ 年 前 に 、 われわれ の 祖先 は この 大陸 に 新た な 国 を 作り上げ まし た 。 その 国 は 自由 という 理念 の 上 に 打ち立て られ 、 全て の 人 は 生まれながら に し て 平等 で ある という 考え に 捧げ られ て い まし た 。 いま われわれ は 大きな 内戦 の さなか に い ます 。 この 国 が 、 と いう より 自由 という 理念 の 上 に 打ち立て られ 、 全て の 人 は 生まれながら に し て 平等 で ある という 考え に 捧げ られ た 国 が 、 永続 する か どう か を 試さ れ て いる の です 。 われわれ は 、 この 戦争 の 激戦 の 戦場 に 集まっ て い ます 。 われわれ は 、 この 国 が 生き 永らえる よう 、 ここ で 命 を 投げ た した 人々 にとって 、 この 戦場 の 一部 を 最終 的 な 安息 の 地 として 捧げる ため に やってき まし た 。 われわれ が こう す べき な の は 、 まったく 正しく 適切 で あり ます 。 しかし 、 より 大きな 意味 で とらえれ ば 、 われわれ に は 捧げる こと は でき ませ ん 、 われわれ に は 呈 する こと は でき ませ ん 、 つまり われわれ に は この 地 を 捧げる こと は でき ない の です 。 勇敢 なる 者 で 、 生き残っ た に せよ 、 戦死 し た に せよ 、 ここ で 奮闘 し た もの だけ が 、 この 土地 を 捧げ て き た の です 。 われわれ の 微力 で は 、 それ に つけ加え たり 減じ たり する こと は でき ない の です 。 世界 は ここ で われわれ が 言っ た こと に は たいして 注意 を 払い も し なけれ ば 、 後世 まで 記憶 する こと も ない でしょ う 。 しかし 勇敢 なる もの が ここ で なしとげ た こと は 、 決して 忘れ られる こと は ない の です 。 ここ で 戦っ た もの が これ まで 気高く 推し進め て き た 未完 の 仕事 に 、 ここ で 新た に 身 を 捧げる の は むしろ 生き残っ た われわれ です 。 ここ で われわれ の 前 に 残さ れ て いる 大 事業 に 、 ここ で 身 を ささげる の は むしろ われわれ な の です 。 その 大 事業 と は 、 われわれ が これら の 名誉 の 戦死 から いよいよ 決意 をもって 、 戦死 者 が 全力 をもって 身 を 捧げ た 大義 へ と 身 を 捧げる こと です 。 その 大 事業 と は 、 これら の 戦死 者 の 死 を 無駄 に し ない よう に と 固く 誓う こと です 。 その 大 事業 と は 、 神 の 庇護 の もと に この 国 に 新た な 自由 が 生まれる よう に する こと です 。 その 大 事業 と は 、 人民 の 、 人民 による 、 人民 の ため の 政治 を この 地上 から 滅び ない よう に する こと な の です 。 "
     ]
    }
   ],
   "source": [
    "for word in jeita.words('g0173.chasen'):\n",
    "    print(word, end=' ')"
   ]
  },
  {
   "cell_type": "markdown",
   "metadata": {
    "collapsed": true
   },
   "source": [
    "### 形態素解析器janome参考URL:   \n",
    "[http://mocobeta.github.io/janome/]"
   ]
  },
  {
   "cell_type": "code",
   "execution_count": 2,
   "metadata": {},
   "outputs": [
    {
     "name": "stdout",
     "output_type": "stream",
     "text": [
      "すもも\t名詞,一般,*,*,*,*,すもも,スモモ,スモモ\n",
      "も\t助詞,係助詞,*,*,*,*,も,モ,モ\n",
      "もも\t名詞,一般,*,*,*,*,もも,モモ,モモ\n",
      "も\t助詞,係助詞,*,*,*,*,も,モ,モ\n",
      "もも\t名詞,一般,*,*,*,*,もも,モモ,モモ\n",
      "の\t助詞,連体化,*,*,*,*,の,ノ,ノ\n",
      "うち\t名詞,非自立,副詞可能,*,*,*,うち,ウチ,ウチ\n"
     ]
    }
   ],
   "source": [
    "# 文字化けする場合は、print(str(token).decode('utf8))などを試す。\n",
    "from janome.tokenizer import Tokenizer\n",
    "t = Tokenizer()\n",
    "for token in t.tokenize('すもももももももものうち'):\n",
    "    print(token)"
   ]
  },
  {
   "cell_type": "code",
   "execution_count": 3,
   "metadata": {},
   "outputs": [
    {
     "name": "stdout",
     "output_type": "stream",
     "text": [
      "すもも: 1\n",
      "もも: 2\n",
      "うち: 1\n"
     ]
    }
   ],
   "source": [
    "# tfのワードカウント\n",
    "# TokenCountFilter(att='base_form)とすると基本形の数を調べる。\n",
    "from janome.tokenizer import Tokenizer\n",
    "from janome.analyzer import Analyzer\n",
    "from janome.tokenfilter import *\n",
    "\n",
    "text = 'すもももももももものうち'\n",
    "token_filters = [POSKeepFilter('名詞'), TokenCountFilter()]\n",
    "a = Analyzer(token_filters=token_filters)\n",
    "for k, v in a.analyze(text):\n",
    "    print('%s: %d' % (k, v))"
   ]
  },
  {
   "cell_type": "code",
   "execution_count": 4,
   "metadata": {},
   "outputs": [
    {
     "data": {
      "text/plain": [
       "['分かち書き', 'モード', 'が', 'つき', 'まし', 'た', '！']"
      ]
     },
     "execution_count": 4,
     "metadata": {},
     "output_type": "execute_result"
    }
   ],
   "source": [
    "# 分かち書きモード\n",
    "# 表層形のみを返す\n",
    "# 分かち書きモードしか使わないということであれば、下記のように書くとメモリを節約できる。\n",
    "#t = Tokenizer(wakati=True)\n",
    "t = Tokenizer()\n",
    "tokens = t.tokenize('分かち書きモードがつきました！', wakati=True)\n",
    "tokens"
   ]
  },
  {
   "cell_type": "markdown",
   "metadata": {},
   "source": [
    "### 便利なライブラリ\n",
    "- twython:twitterの情報を取得するためのライブラリ。Twitter Developerの登録が必要？"
   ]
  }
 ],
 "metadata": {
  "kernelspec": {
   "display_name": "Python 3",
   "language": "python",
   "name": "python3"
  },
  "language_info": {
   "codemirror_mode": {
    "name": "ipython",
    "version": 3
   },
   "file_extension": ".py",
   "mimetype": "text/x-python",
   "name": "python",
   "nbconvert_exporter": "python",
   "pygments_lexer": "ipython3",
   "version": "3.6.1"
  }
 },
 "nbformat": 4,
 "nbformat_minor": 2
}
